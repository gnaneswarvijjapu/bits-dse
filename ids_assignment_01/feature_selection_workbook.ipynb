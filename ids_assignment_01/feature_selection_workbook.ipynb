{
 "cells": [
  {
   "cell_type": "code",
   "execution_count": 1,
   "id": "7eb800c2",
   "metadata": {},
   "outputs": [],
   "source": [
    "import numpy as np\n",
    "import pandas as pd\n",
    "import sklearn as sk\n",
    "import seaborn as sns\n",
    "import scipy as scipy\n",
    "import matplotlib as matplot\n",
    "import matplotlib.pyplot as plt\n",
    "\n",
    "from sklearn import svm\n",
    "from sklearn.model_selection import train_test_split\n",
    "from sklearn.model_selection import cross_val_score\n",
    "from sklearn.tree import DecisionTreeClassifier\n",
    "\n",
    "from sklearn.ensemble import RandomForestClassifier\n",
    "from sklearn.decomposition import PCA\n",
    "\n",
    "from sklearn.metrics import accuracy_score\n",
    "from sklearn.metrics import confusion_matrix\n",
    "from sklearn.metrics import roc_curve\n",
    "from sklearn.metrics import roc_auc_score\n",
    "\n",
    "from sklearn.preprocessing import LabelEncoder\n",
    "from sklearn.preprocessing import StandardScaler\n",
    "from sklearn.feature_selection import VarianceThreshold\n",
    "\n",
    "\n",
    "from sklearn.feature_selection import mutual_info_classif, mutual_info_regression\n",
    "from sklearn.feature_selection import SelectKBest, SelectPercentile\n",
    "from mlxtend.feature_selection import ExhaustiveFeatureSelector as EFS\n",
    "from mlxtend.feature_selection import SequentialFeatureSelector as SFS\n",
    "\n",
    "from scipy.stats import pearsonr\n",
    "\n",
    "import warnings\n",
    "warnings.filterwarnings(\"ignore\")\n",
    "\n",
    "pd.set_option(\"display.precision\", 4)\n",
    "np.random.seed(2021)"
   ]
  },
  {
   "cell_type": "code",
   "execution_count": 2,
   "id": "e4bb4b50",
   "metadata": {},
   "outputs": [
    {
     "name": "stdout",
     "output_type": "stream",
     "text": [
      "numpy: 1.20.3\n",
      "pandas: 1.20.3\n",
      "seaborn: 0.11.1\n",
      "sklearn: 0.24.2\n",
      "matplotlib: 3.4.2\n",
      "scipy: 1.6.3\n"
     ]
    }
   ],
   "source": [
    "print(\"numpy:\", np.__version__)\n",
    "print(\"pandas:\", np.__version__)\n",
    "print(\"seaborn:\", sns.__version__)\n",
    "print(\"sklearn:\", sk.__version__)\n",
    "print(\"matplotlib:\", matplot.__version__)\n",
    "print(\"scipy:\", scipy.__version__)\n",
    "\n",
    "%matplotlib inline"
   ]
  },
  {
   "cell_type": "code",
   "execution_count": 3,
   "id": "de003274",
   "metadata": {},
   "outputs": [],
   "source": [
    "signature_original_dataframe = pd.read_csv(\"signature-dataset.csv\")\n",
    "df = signature_original_dataframe.copy()"
   ]
  },
  {
   "cell_type": "code",
   "execution_count": 4,
   "id": "934a53ff",
   "metadata": {},
   "outputs": [],
   "source": [
    "def replace_with_mean_per_class(attr):\n",
    "    attr_mean_per_class = df.loc[:, [attr, 'class']].groupby(by=['class']).mean()\n",
    "    attr_and_class = df.loc[:, [attr, 'class']]\n",
    "    attr_and_class[attr] = np.where(attr_and_class['class'] == 'anomaly', \n",
    "                                attr_and_class[attr].fillna(attr_mean_per_class.loc['anomaly', attr]),\n",
    "                                attr_and_class[attr].fillna(attr_mean_per_class.loc['normal', attr]))\n",
    "    df[attr] = attr_and_class[attr]"
   ]
  },
  {
   "cell_type": "code",
   "execution_count": 5,
   "id": "9be61681",
   "metadata": {},
   "outputs": [],
   "source": [
    "_ = replace_with_mean_per_class('count')\n",
    "_ = replace_with_mean_per_class('srv_count')"
   ]
  },
  {
   "cell_type": "code",
   "execution_count": 6,
   "id": "93b58624",
   "metadata": {},
   "outputs": [
    {
     "name": "stdout",
     "output_type": "stream",
     "text": [
      "<class 'pandas.core.frame.DataFrame'>\n",
      "RangeIndex: 22544 entries, 0 to 22543\n",
      "Data columns (total 40 columns):\n",
      " #   Column                       Non-Null Count  Dtype  \n",
      "---  ------                       --------------  -----  \n",
      " 0   duration                     22544 non-null  float64\n",
      " 1   protocol_type                22544 non-null  object \n",
      " 2   service                      22544 non-null  object \n",
      " 3   flag                         22544 non-null  object \n",
      " 4   src_bytes                    22544 non-null  float64\n",
      " 5   dst_bytes                    22544 non-null  float64\n",
      " 6   land                         22544 non-null  float64\n",
      " 7   wrong_fragment               22544 non-null  float64\n",
      " 8   urgent                       22544 non-null  float64\n",
      " 9   hot                          22544 non-null  float64\n",
      " 10  num_failed_logins            22544 non-null  float64\n",
      " 11  logged_in                    22544 non-null  float64\n",
      " 12  num_compromised              22544 non-null  float64\n",
      " 13  root_shell                   22544 non-null  float64\n",
      " 14  su_attempted                 22544 non-null  float64\n",
      " 15  num_root                     22544 non-null  float64\n",
      " 16  num_file_creations           22544 non-null  float64\n",
      " 17  num_shells                   22544 non-null  float64\n",
      " 18  num_access_files             22544 non-null  float64\n",
      " 19  is_guest_login               22544 non-null  float64\n",
      " 20  count                        22544 non-null  float64\n",
      " 21  srv_count                    22544 non-null  float64\n",
      " 22  serror_rate                  22544 non-null  float64\n",
      " 23  srv_serror_rate              22544 non-null  float64\n",
      " 24  rerror_rate                  22544 non-null  float64\n",
      " 25  srv_rerror_rate              22544 non-null  float64\n",
      " 26  same_srv_rate                22544 non-null  float64\n",
      " 27  diff_srv_rate                22544 non-null  float64\n",
      " 28  srv_diff_host_rate           22544 non-null  float64\n",
      " 29  dst_host_count               22544 non-null  float64\n",
      " 30  dst_host_srv_count           22544 non-null  float64\n",
      " 31  dst_host_same_srv_rate       22544 non-null  float64\n",
      " 32  dst_host_diff_srv_rate       22544 non-null  float64\n",
      " 33  dst_host_same_src_port_rate  22544 non-null  float64\n",
      " 34  dst_host_srv_diff_host_rate  22544 non-null  float64\n",
      " 35  dst_host_serror_rate         22544 non-null  float64\n",
      " 36  dst_host_srv_serror_rate     22544 non-null  float64\n",
      " 37  dst_host_rerror_rate         22544 non-null  float64\n",
      " 38  dst_host_srv_rerror_rate     22544 non-null  float64\n",
      " 39  class                        22544 non-null  object \n",
      "dtypes: float64(36), object(4)\n",
      "memory usage: 6.9+ MB\n",
      "None\n"
     ]
    }
   ],
   "source": [
    "df['duration'] = df['duration'].astype('float64')\n",
    "df['src_bytes'] = df['src_bytes'].astype('float64')\n",
    "df['dst_bytes'] = df['dst_bytes'].astype('float64')\n",
    "df['land'] = df['land'].astype('float64')\n",
    "df['wrong_fragment'] = df['wrong_fragment'].astype('float64')\n",
    "\n",
    "df['urgent'] = df['urgent'].astype('float64')\n",
    "df['hot'] = df['hot'].astype('float64')\n",
    "df['num_failed_logins'] = df['num_failed_logins'].astype('float64')\n",
    "df['logged_in'] = df['logged_in'].astype('float64')\n",
    "df['num_compromised'] = df['num_compromised'].astype('float64')\n",
    "\n",
    "df['root_shell'] = df['root_shell'].astype('float64')\n",
    "df['su_attempted'] = df['su_attempted'].astype('float64')\n",
    "df['num_root'] = df['num_root'].astype('float64')\n",
    "df['num_file_creations'] = df['num_file_creations'].astype('float64')\n",
    "df['num_shells'] = df['num_shells'].astype('float64')\n",
    "\n",
    "df['num_access_files'] = df['num_access_files'].astype('float64')\n",
    "df['is_guest_login'] = df['is_guest_login'].astype('float64')\n",
    "df['dst_host_count'] = df['dst_host_count'].astype('float64')\n",
    "df['dst_host_srv_count'] = df['dst_host_srv_count'].astype('float64')\n",
    "\n",
    "print(df.info())"
   ]
  },
  {
   "cell_type": "code",
   "execution_count": 7,
   "id": "58f497b0",
   "metadata": {},
   "outputs": [],
   "source": [
    "numerical_features = ['duration',\n",
    "                      'src_bytes',\n",
    "                      'dst_bytes',\n",
    "                      'land',\n",
    "                      'wrong_fragment',\n",
    "                      'urgent',\n",
    "                      'hot',\n",
    "                      'num_failed_logins',\n",
    "                      'logged_in',\n",
    "                      'num_compromised',\n",
    "                      'root_shell',\n",
    "                      'su_attempted',\n",
    "                      'num_root',\n",
    "                      'num_file_creations',\n",
    "                      'num_shells',\n",
    "                      'num_access_files',\n",
    "                      'is_guest_login',\n",
    "                      'count',\n",
    "                      'srv_count',\n",
    "                      'serror_rate',\n",
    "                      'srv_serror_rate',\n",
    "                      'rerror_rate',\n",
    "                      'srv_rerror_rate',\n",
    "                      'same_srv_rate',\n",
    "                      'diff_srv_rate',\n",
    "                      'srv_diff_host_rate',\n",
    "                      'dst_host_count',\n",
    "                      'dst_host_srv_count',\n",
    "                      'dst_host_same_srv_rate',\n",
    "                      'dst_host_diff_srv_rate',\n",
    "                      'dst_host_same_src_port_rate',\n",
    "                      'dst_host_srv_diff_host_rate',\n",
    "                      'dst_host_serror_rate',\n",
    "                      'dst_host_srv_serror_rate',\n",
    "                      'dst_host_rerror_rate',\n",
    "                      'dst_host_srv_rerror_rate']\n",
    "\n",
    "categorical_features = ['protocol_type', 'service', 'flag']"
   ]
  },
  {
   "cell_type": "code",
   "execution_count": 8,
   "id": "a831ec8a",
   "metadata": {},
   "outputs": [],
   "source": [
    "numerical_features_df = df[numerical_features]\n",
    "#print(numerical_features_df.info())\n",
    "#print()\n",
    "categorical_features_df = df[categorical_features]\n",
    "#print(categorical_features_df.info())"
   ]
  },
  {
   "cell_type": "code",
   "execution_count": 9,
   "id": "988ab626",
   "metadata": {},
   "outputs": [],
   "source": [
    "X = df[numerical_features].iloc[:,:]\n",
    "Y = df[numerical_features].iloc[:, -1]"
   ]
  },
  {
   "cell_type": "code",
   "execution_count": 10,
   "id": "ede07781",
   "metadata": {},
   "outputs": [],
   "source": [
    "encoder = LabelEncoder()\n",
    "Y = encoder.fit_transform(Y)"
   ]
  },
  {
   "cell_type": "code",
   "execution_count": 11,
   "id": "bc029701",
   "metadata": {},
   "outputs": [],
   "source": [
    "X_train, X_test, Y_train, Y_test = train_test_split(X, Y, test_size = 0.25, random_state = 2021)"
   ]
  },
  {
   "cell_type": "code",
   "execution_count": 12,
   "id": "4304a751",
   "metadata": {},
   "outputs": [
    {
     "data": {
      "text/plain": [
       "((16908, 36), (5636, 36))"
      ]
     },
     "execution_count": 12,
     "metadata": {},
     "output_type": "execute_result"
    }
   ],
   "source": [
    "X_train.shape, X_test.shape"
   ]
  },
  {
   "cell_type": "markdown",
   "id": "1bf90f42",
   "metadata": {},
   "source": [
    "# Feature Selection"
   ]
  },
  {
   "cell_type": "markdown",
   "id": "ee2ef4a4",
   "metadata": {},
   "source": [
    "The feature selection can be done using 3 type of methods\n",
    "\n",
    "1) Filter methods\n",
    "\n",
    "2) Wrapper methods\n",
    "\n",
    "3) Embedded methods"
   ]
  },
  {
   "cell_type": "markdown",
   "id": "463dc35c",
   "metadata": {},
   "source": [
    "## 1) Filter Methods"
   ]
  },
  {
   "cell_type": "markdown",
   "id": "5c34c631",
   "metadata": {},
   "source": [
    "Filter method can be again divided into 3\n",
    "\n",
    "a) Removal of constant, quasi-constant and duplicate features\n",
    "\n",
    "b) Removal of Correlated features\n",
    "\n",
    "c) Using statistical methods"
   ]
  },
  {
   "cell_type": "markdown",
   "id": "48f8ef76",
   "metadata": {},
   "source": [
    "### a) Removal of constant, quasi-constant and duplicate features"
   ]
  },
  {
   "cell_type": "code",
   "execution_count": 13,
   "id": "0e2f273a",
   "metadata": {},
   "outputs": [
    {
     "data": {
      "text/plain": [
       "VarianceThreshold(threshold=0.01)"
      ]
     },
     "execution_count": 13,
     "metadata": {},
     "output_type": "execute_result"
    }
   ],
   "source": [
    "const = VarianceThreshold(threshold=0.01)  \n",
    "\n",
    "const.fit(X_train)  # fit finds the features with low variance"
   ]
  },
  {
   "cell_type": "code",
   "execution_count": 14,
   "id": "df6dfe2f",
   "metadata": {},
   "outputs": [
    {
     "data": {
      "text/plain": [
       "7"
      ]
     },
     "execution_count": 14,
     "metadata": {},
     "output_type": "execute_result"
    }
   ],
   "source": [
    "#the number of quasi-constant features\n",
    "\n",
    "quasi_constant = X_train.columns[~const.get_support()]\n",
    "\n",
    "len(quasi_constant)"
   ]
  },
  {
   "cell_type": "code",
   "execution_count": 15,
   "id": "445c6082",
   "metadata": {},
   "outputs": [
    {
     "data": {
      "text/plain": [
       "Index(['land', 'urgent', 'root_shell', 'su_attempted', 'num_shells',\n",
       "       'num_access_files', 'dst_host_srv_diff_host_rate'],\n",
       "      dtype='object')"
      ]
     },
     "execution_count": 15,
     "metadata": {},
     "output_type": "execute_result"
    }
   ],
   "source": [
    "quasi_constant"
   ]
  },
  {
   "cell_type": "code",
   "execution_count": 16,
   "id": "745e363b",
   "metadata": {},
   "outputs": [
    {
     "data": {
      "text/plain": [
       "0.0    0.9976\n",
       "1.0    0.0024\n",
       "Name: root_shell, dtype: float64"
      ]
     },
     "execution_count": 16,
     "metadata": {},
     "output_type": "execute_result"
    }
   ],
   "source": [
    "# percentage of observations showing each of the different values\n",
    "# of the variable\n",
    "\n",
    "X_train['root_shell'].value_counts() / np.float(len(X_train))"
   ]
  },
  {
   "cell_type": "markdown",
   "id": "6ac9f5fc",
   "metadata": {},
   "source": [
    "Here more than 99% of the observations show one value, 0. Therefore, this features can be considered as constant."
   ]
  },
  {
   "cell_type": "code",
   "execution_count": 17,
   "id": "35f4866d",
   "metadata": {},
   "outputs": [],
   "source": [
    "# storing column names\n",
    "\n",
    "col_names = X_train.columns[const.get_support()]"
   ]
  },
  {
   "cell_type": "code",
   "execution_count": 18,
   "id": "931adf31",
   "metadata": {},
   "outputs": [
    {
     "data": {
      "text/plain": [
       "((16908, 29), (5636, 29))"
      ]
     },
     "execution_count": 18,
     "metadata": {},
     "output_type": "execute_result"
    }
   ],
   "source": [
    "#removing the constant and quasi-constant features\n",
    "\n",
    "X_train = const.transform(X_train)\n",
    "X_test = const.transform(X_test)\n",
    "\n",
    "X_train.shape, X_test.shape"
   ]
  },
  {
   "cell_type": "code",
   "execution_count": 19,
   "id": "390c3871",
   "metadata": {},
   "outputs": [
    {
     "data": {
      "text/html": [
       "<div>\n",
       "<style scoped>\n",
       "    .dataframe tbody tr th:only-of-type {\n",
       "        vertical-align: middle;\n",
       "    }\n",
       "\n",
       "    .dataframe tbody tr th {\n",
       "        vertical-align: top;\n",
       "    }\n",
       "\n",
       "    .dataframe thead th {\n",
       "        text-align: right;\n",
       "    }\n",
       "</style>\n",
       "<table border=\"1\" class=\"dataframe\">\n",
       "  <thead>\n",
       "    <tr style=\"text-align: right;\">\n",
       "      <th></th>\n",
       "      <th>duration</th>\n",
       "      <th>src_bytes</th>\n",
       "      <th>dst_bytes</th>\n",
       "      <th>wrong_fragment</th>\n",
       "      <th>hot</th>\n",
       "      <th>num_failed_logins</th>\n",
       "      <th>logged_in</th>\n",
       "      <th>num_compromised</th>\n",
       "      <th>num_root</th>\n",
       "      <th>num_file_creations</th>\n",
       "      <th>...</th>\n",
       "      <th>srv_diff_host_rate</th>\n",
       "      <th>dst_host_count</th>\n",
       "      <th>dst_host_srv_count</th>\n",
       "      <th>dst_host_same_srv_rate</th>\n",
       "      <th>dst_host_diff_srv_rate</th>\n",
       "      <th>dst_host_same_src_port_rate</th>\n",
       "      <th>dst_host_serror_rate</th>\n",
       "      <th>dst_host_srv_serror_rate</th>\n",
       "      <th>dst_host_rerror_rate</th>\n",
       "      <th>dst_host_srv_rerror_rate</th>\n",
       "    </tr>\n",
       "  </thead>\n",
       "  <tbody>\n",
       "    <tr>\n",
       "      <th>0</th>\n",
       "      <td>0.0</td>\n",
       "      <td>8.0</td>\n",
       "      <td>0.0</td>\n",
       "      <td>0.0</td>\n",
       "      <td>0.0</td>\n",
       "      <td>0.0</td>\n",
       "      <td>0.0</td>\n",
       "      <td>0.0</td>\n",
       "      <td>0.0</td>\n",
       "      <td>0.0</td>\n",
       "      <td>...</td>\n",
       "      <td>1.0</td>\n",
       "      <td>2.0</td>\n",
       "      <td>142.0</td>\n",
       "      <td>1.00</td>\n",
       "      <td>0.00</td>\n",
       "      <td>1.0</td>\n",
       "      <td>0.0</td>\n",
       "      <td>0.0</td>\n",
       "      <td>0.0</td>\n",
       "      <td>0.0</td>\n",
       "    </tr>\n",
       "    <tr>\n",
       "      <th>1</th>\n",
       "      <td>0.0</td>\n",
       "      <td>0.0</td>\n",
       "      <td>0.0</td>\n",
       "      <td>0.0</td>\n",
       "      <td>0.0</td>\n",
       "      <td>0.0</td>\n",
       "      <td>0.0</td>\n",
       "      <td>0.0</td>\n",
       "      <td>0.0</td>\n",
       "      <td>0.0</td>\n",
       "      <td>...</td>\n",
       "      <td>0.0</td>\n",
       "      <td>255.0</td>\n",
       "      <td>5.0</td>\n",
       "      <td>0.02</td>\n",
       "      <td>0.17</td>\n",
       "      <td>0.0</td>\n",
       "      <td>1.0</td>\n",
       "      <td>1.0</td>\n",
       "      <td>0.0</td>\n",
       "      <td>0.0</td>\n",
       "    </tr>\n",
       "    <tr>\n",
       "      <th>2</th>\n",
       "      <td>31.0</td>\n",
       "      <td>197.0</td>\n",
       "      <td>1608.0</td>\n",
       "      <td>0.0</td>\n",
       "      <td>1.0</td>\n",
       "      <td>0.0</td>\n",
       "      <td>1.0</td>\n",
       "      <td>1.0</td>\n",
       "      <td>1.0</td>\n",
       "      <td>2.0</td>\n",
       "      <td>...</td>\n",
       "      <td>0.0</td>\n",
       "      <td>248.0</td>\n",
       "      <td>32.0</td>\n",
       "      <td>0.13</td>\n",
       "      <td>0.03</td>\n",
       "      <td>0.0</td>\n",
       "      <td>0.0</td>\n",
       "      <td>0.0</td>\n",
       "      <td>0.0</td>\n",
       "      <td>0.0</td>\n",
       "    </tr>\n",
       "    <tr>\n",
       "      <th>3</th>\n",
       "      <td>0.0</td>\n",
       "      <td>0.0</td>\n",
       "      <td>0.0</td>\n",
       "      <td>0.0</td>\n",
       "      <td>0.0</td>\n",
       "      <td>0.0</td>\n",
       "      <td>0.0</td>\n",
       "      <td>0.0</td>\n",
       "      <td>0.0</td>\n",
       "      <td>0.0</td>\n",
       "      <td>...</td>\n",
       "      <td>0.0</td>\n",
       "      <td>255.0</td>\n",
       "      <td>1.0</td>\n",
       "      <td>0.00</td>\n",
       "      <td>0.07</td>\n",
       "      <td>0.0</td>\n",
       "      <td>0.0</td>\n",
       "      <td>0.0</td>\n",
       "      <td>1.0</td>\n",
       "      <td>1.0</td>\n",
       "    </tr>\n",
       "    <tr>\n",
       "      <th>4</th>\n",
       "      <td>0.0</td>\n",
       "      <td>0.0</td>\n",
       "      <td>0.0</td>\n",
       "      <td>0.0</td>\n",
       "      <td>0.0</td>\n",
       "      <td>0.0</td>\n",
       "      <td>0.0</td>\n",
       "      <td>0.0</td>\n",
       "      <td>0.0</td>\n",
       "      <td>0.0</td>\n",
       "      <td>...</td>\n",
       "      <td>0.0</td>\n",
       "      <td>255.0</td>\n",
       "      <td>9.0</td>\n",
       "      <td>0.04</td>\n",
       "      <td>0.06</td>\n",
       "      <td>0.0</td>\n",
       "      <td>0.0</td>\n",
       "      <td>0.0</td>\n",
       "      <td>1.0</td>\n",
       "      <td>1.0</td>\n",
       "    </tr>\n",
       "  </tbody>\n",
       "</table>\n",
       "<p>5 rows × 29 columns</p>\n",
       "</div>"
      ],
      "text/plain": [
       "   duration  src_bytes  dst_bytes  wrong_fragment  hot  num_failed_logins  \\\n",
       "0       0.0        8.0        0.0             0.0  0.0                0.0   \n",
       "1       0.0        0.0        0.0             0.0  0.0                0.0   \n",
       "2      31.0      197.0     1608.0             0.0  1.0                0.0   \n",
       "3       0.0        0.0        0.0             0.0  0.0                0.0   \n",
       "4       0.0        0.0        0.0             0.0  0.0                0.0   \n",
       "\n",
       "   logged_in  num_compromised  num_root  num_file_creations  ...  \\\n",
       "0        0.0              0.0       0.0                 0.0  ...   \n",
       "1        0.0              0.0       0.0                 0.0  ...   \n",
       "2        1.0              1.0       1.0                 2.0  ...   \n",
       "3        0.0              0.0       0.0                 0.0  ...   \n",
       "4        0.0              0.0       0.0                 0.0  ...   \n",
       "\n",
       "   srv_diff_host_rate  dst_host_count  dst_host_srv_count  \\\n",
       "0                 1.0             2.0               142.0   \n",
       "1                 0.0           255.0                 5.0   \n",
       "2                 0.0           248.0                32.0   \n",
       "3                 0.0           255.0                 1.0   \n",
       "4                 0.0           255.0                 9.0   \n",
       "\n",
       "   dst_host_same_srv_rate  dst_host_diff_srv_rate  \\\n",
       "0                    1.00                    0.00   \n",
       "1                    0.02                    0.17   \n",
       "2                    0.13                    0.03   \n",
       "3                    0.00                    0.07   \n",
       "4                    0.04                    0.06   \n",
       "\n",
       "   dst_host_same_src_port_rate  dst_host_serror_rate  \\\n",
       "0                          1.0                   0.0   \n",
       "1                          0.0                   1.0   \n",
       "2                          0.0                   0.0   \n",
       "3                          0.0                   0.0   \n",
       "4                          0.0                   0.0   \n",
       "\n",
       "   dst_host_srv_serror_rate  dst_host_rerror_rate  dst_host_srv_rerror_rate  \n",
       "0                       0.0                   0.0                       0.0  \n",
       "1                       1.0                   0.0                       0.0  \n",
       "2                       0.0                   0.0                       0.0  \n",
       "3                       0.0                   1.0                       1.0  \n",
       "4                       0.0                   1.0                       1.0  \n",
       "\n",
       "[5 rows x 29 columns]"
      ]
     },
     "execution_count": 19,
     "metadata": {},
     "output_type": "execute_result"
    }
   ],
   "source": [
    "# transform the array into a dataframe\n",
    "\n",
    "X_train = pd.DataFrame(X_train, columns=col_names)\n",
    "X_test = pd.DataFrame(X_test, columns=col_names)\n",
    "\n",
    "X_test.head()"
   ]
  },
  {
   "cell_type": "markdown",
   "id": "3a3e3ced",
   "metadata": {},
   "source": [
    "As there are no features found as duplicates we can skip that step"
   ]
  },
  {
   "cell_type": "markdown",
   "id": "30391657",
   "metadata": {},
   "source": [
    "### b) Removal of Correlated Features"
   ]
  },
  {
   "cell_type": "code",
   "execution_count": 20,
   "id": "3bfbab9c",
   "metadata": {},
   "outputs": [
    {
     "data": {
      "text/plain": [
       "<AxesSubplot:>"
      ]
     },
     "execution_count": 20,
     "metadata": {},
     "output_type": "execute_result"
    },
    {
     "data": {
      "image/png": "[encoded data removed]",
      "text/plain": [
       "<Figure size 792x792 with 2 Axes>"
      ]
     },
     "metadata": {
      "needs_background": "light"
     },
     "output_type": "display_data"
    }
   ],
   "source": [
    "# creating the correlation heat map\n",
    "\n",
    "corr_matrix = X_train.corr(method='pearson')\n",
    "corr_map = sns.diverging_palette(220, 20, as_cmap=True)\n",
    "\n",
    "# some more parameters for the figure\n",
    "fig, ax = plt.subplots()\n",
    "fig.set_size_inches(11,11)\n",
    "\n",
    "# and now plot the correlation matrix\n",
    "sns.heatmap(corr_matrix, cmap=corr_map)"
   ]
  },
  {
   "cell_type": "code",
   "execution_count": 21,
   "id": "0f1886c3",
   "metadata": {},
   "outputs": [],
   "source": [
    "def correlation(dataset, threshold):\n",
    "    col_corr = set()\n",
    "    corr_matrix = dataset.corr()\n",
    "    for i in range(len(corr_matrix.columns)):\n",
    "        for j in range(i):\n",
    "            if abs(corr_matrix.iloc[i, j]) > threshold:\n",
    "                print(abs(corr_matrix.iloc[i, j]), corr_matrix.columns[i], corr_matrix.columns[j])\n",
    "                colname = corr_matrix.columns[j]\n",
    "                col_corr.add(colname)\n",
    "                \n",
    "    return col_corr"
   ]
  },
  {
   "cell_type": "code",
   "execution_count": 22,
   "id": "190eb1ea",
   "metadata": {},
   "outputs": [
    {
     "name": "stdout",
     "output_type": "stream",
     "text": [
      "0.996333194456031 num_root num_compromised\n",
      "0.9658984257894075 srv_serror_rate serror_rate\n",
      "0.975128818365034 srv_rerror_rate rerror_rate\n",
      "0.906867605901658 dst_host_same_srv_rate dst_host_srv_count\n",
      "0.9040409539321193 dst_host_serror_rate serror_rate\n",
      "0.8712608552759973 dst_host_serror_rate srv_serror_rate\n",
      "0.9002451100642666 dst_host_srv_serror_rate serror_rate\n",
      "0.9206662753379424 dst_host_srv_serror_rate srv_serror_rate\n",
      "0.9447008767589788 dst_host_srv_serror_rate dst_host_serror_rate\n",
      "0.8758071023020672 dst_host_rerror_rate rerror_rate\n",
      "0.8586836391492472 dst_host_rerror_rate srv_rerror_rate\n",
      "0.931118305733183 dst_host_srv_rerror_rate rerror_rate\n",
      "0.9483418273421169 dst_host_srv_rerror_rate srv_rerror_rate\n",
      "0.903259184129262 dst_host_srv_rerror_rate dst_host_rerror_rate\n"
     ]
    },
    {
     "data": {
      "text/plain": [
       "8"
      ]
     },
     "execution_count": 22,
     "metadata": {},
     "output_type": "execute_result"
    }
   ],
   "source": [
    "corr_columns = correlation(X_train, 0.8)\n",
    "len(set(corr_columns))"
   ]
  },
  {
   "cell_type": "code",
   "execution_count": 23,
   "id": "983d80c4",
   "metadata": {},
   "outputs": [
    {
     "data": {
      "text/plain": [
       "{'dst_host_rerror_rate',\n",
       " 'dst_host_serror_rate',\n",
       " 'dst_host_srv_count',\n",
       " 'num_compromised',\n",
       " 'rerror_rate',\n",
       " 'serror_rate',\n",
       " 'srv_rerror_rate',\n",
       " 'srv_serror_rate'}"
      ]
     },
     "execution_count": 23,
     "metadata": {},
     "output_type": "execute_result"
    }
   ],
   "source": [
    "corr_columns"
   ]
  },
  {
   "cell_type": "code",
   "execution_count": 24,
   "id": "9ec83012",
   "metadata": {},
   "outputs": [
    {
     "data": {
      "text/plain": [
       "((16908, 21), (5636, 21))"
      ]
     },
     "execution_count": 24,
     "metadata": {},
     "output_type": "execute_result"
    }
   ],
   "source": [
    "X_train.drop(labels=corr_columns, axis=1, inplace=True)\n",
    "X_test.drop(labels=corr_columns, axis=1, inplace=True)\n",
    "\n",
    "X_train.shape, X_test.shape"
   ]
  },
  {
   "cell_type": "markdown",
   "id": "48af2efa",
   "metadata": {},
   "source": [
    "### c) Using statistical methods\n",
    "\n",
    "The main statistical methods used are Mutual Information , Chi- square and anova"
   ]
  },
  {
   "cell_type": "code",
   "execution_count": 25,
   "id": "a5370468",
   "metadata": {},
   "outputs": [
    {
     "data": {
      "text/plain": [
       "array([0.13048267, 0.50217074, 0.43064676, 0.        , 0.0333855 ,\n",
       "       0.04292279, 0.13243839, 0.        , 0.        , 0.00696167,\n",
       "       0.29161799, 0.12801018, 0.30031475, 0.30658167, 0.08970804,\n",
       "       0.10502375, 0.39919451, 0.35477856, 0.12590174, 0.20495373,\n",
       "       1.37792435])"
      ]
     },
     "execution_count": 25,
     "metadata": {},
     "output_type": "execute_result"
    }
   ],
   "source": [
    "#Mutual Information\n",
    "\n",
    "mutual_info = mutual_info_classif(X_train, Y_train)\n",
    "mutual_info\n"
   ]
  },
  {
   "cell_type": "code",
   "execution_count": 26,
   "id": "e710b08b",
   "metadata": {},
   "outputs": [
    {
     "data": {
      "text/plain": [
       "Text(0, 0.5, 'Mutual Information')"
      ]
     },
     "execution_count": 26,
     "metadata": {},
     "output_type": "execute_result"
    },
    {
     "data": {
      "image/png": "[encoded data removed]",
      "text/plain": [
       "<Figure size 1440x432 with 1 Axes>"
      ]
     },
     "metadata": {
      "needs_background": "light"
     },
     "output_type": "display_data"
    }
   ],
   "source": [
    "mutual_info = pd.Series(mutual_info)\n",
    "mutual_info.index = X_train.columns\n",
    "mutual_info.sort_values(ascending=False).plot.bar(figsize=(20, 6))\n",
    "plt.ylabel('Mutual Information')"
   ]
  },
  {
   "cell_type": "markdown",
   "id": "e9510ff2",
   "metadata": {},
   "source": [
    "These features are contributing the most towards the target variable based on Mutual Information"
   ]
  },
  {
   "cell_type": "code",
   "execution_count": 27,
   "id": "2f30c252",
   "metadata": {},
   "outputs": [
    {
     "data": {
      "text/plain": [
       "'\\nsel_ = SelectKBest(mutual_info_classif, k=3).fit(X_train, Y_train)\\nX_train.columns[sel_.get_support()]\\n'"
      ]
     },
     "execution_count": 27,
     "metadata": {},
     "output_type": "execute_result"
    }
   ],
   "source": [
    "\"\"\"\n",
    "sel_ = SelectKBest(mutual_info_classif, k=3).fit(X_train, Y_train)\n",
    "X_train.columns[sel_.get_support()]\n",
    "\"\"\""
   ]
  },
  {
   "cell_type": "code",
   "execution_count": 28,
   "id": "bb3ab754",
   "metadata": {},
   "outputs": [
    {
     "data": {
      "text/plain": [
       "'\\nX_train = sel_.transform(X_train)\\nX_test = sel_.transform(X_test)\\n'"
      ]
     },
     "execution_count": 28,
     "metadata": {},
     "output_type": "execute_result"
    }
   ],
   "source": [
    "# to remove the rest of the features:\n",
    "\"\"\"\n",
    "X_train = sel_.transform(X_train)\n",
    "X_test = sel_.transform(X_test)\n",
    "\"\"\""
   ]
  },
  {
   "cell_type": "markdown",
   "id": "3ea0341b",
   "metadata": {},
   "source": [
    "## Wrapper methods\n",
    "\n",
    "The wrapper methhods are divided into 3\n",
    "\n",
    "1) Step forward feature selection\n",
    "\n",
    "2) Step backwards feature selection\n",
    "\n",
    "3) Exhaustive feature selection\n",
    "\n"
   ]
  },
  {
   "cell_type": "code",
   "execution_count": 30,
   "id": "65d781c3",
   "metadata": {},
   "outputs": [
    {
     "data": {
      "text/plain": [
       "\"\\nfrom mlxtend.feature_selection import ExhaustiveFeatureSelector\\n           \\n# import the algorithm you want to evaluate on your features.\\nfrom sklearn.ensemble import RandomForestClassifier\\n\\n# create the ExhaustiveFeatureSelector object.\\nefs = ExhaustiveFeatureSelector(RandomForestClassifier(), \\n           min_features=1,\\n           max_features=3, \\n           scoring='roc_auc',\\n           cv=2)\\n\\n# fit the object to the training data.\\nefs = efs.fit(X_train, Y_train)\\n\\n# print the selected features.\\nselected_features = x_train.columns[list(efs.k_feature_idx_)]\\nprint(selected_features)\\n\\n# print the final prediction score.\\nprint(efs.k_score_)\\n\\n# transform our data to the newly selected features.\\nx_train_sfs = efs.transform(x_train)\\nx_test_sfs = efs.transform(x_test)\\n\\n\""
      ]
     },
     "execution_count": 30,
     "metadata": {},
     "output_type": "execute_result"
    }
   ],
   "source": [
    "\"\"\"\n",
    "from mlxtend.feature_selection import ExhaustiveFeatureSelector\n",
    "           \n",
    "# import the algorithm you want to evaluate on your features.\n",
    "from sklearn.ensemble import RandomForestClassifier\n",
    "\n",
    "# create the ExhaustiveFeatureSelector object.\n",
    "efs = ExhaustiveFeatureSelector(RandomForestClassifier(), \n",
    "           min_features=1,\n",
    "           max_features=3, \n",
    "           scoring='roc_auc',\n",
    "           cv=2)\n",
    "\n",
    "# fit the object to the training data.\n",
    "efs = efs.fit(X_train, Y_train)\n",
    "\n",
    "# print the selected features.\n",
    "selected_features = x_train.columns[list(efs.k_feature_idx_)]\n",
    "print(selected_features)\n",
    "\n",
    "# print the final prediction score.\n",
    "print(efs.k_score_)\n",
    "\n",
    "# transform our data to the newly selected features.\n",
    "x_train_sfs = efs.transform(x_train)\n",
    "x_test_sfs = efs.transform(x_test)\n",
    "\n",
    "\"\"\""
   ]
  },
  {
   "cell_type": "code",
   "execution_count": 33,
   "id": "06570150",
   "metadata": {},
   "outputs": [
    {
     "name": "stdout",
     "output_type": "stream",
     "text": [
      "Decision Tree Model Accuracy: 100.0\n",
      "Decision Tree Cross Validation Accuracy: 100.00 %\n",
      "Decision Tree Cross Validation Standard-Deviation: 0.00 %\n",
      "\n"
     ]
    }
   ],
   "source": [
    "dt_classifier = DecisionTreeClassifier(criterion = 'entropy', random_state = 0)\n",
    "dt_classifier.fit(X_train, Y_train)\n",
    "Y_pred = dt_classifier.predict(X_test)\n",
    "cm = confusion_matrix(Y_test, Y_pred)\n",
    "\n",
    "dt_model_accuracy = (100 * (cm[0][0] + cm[1][1]) / (cm[0][0] + cm[0][1] + cm[1][0] + cm[1][1]))\n",
    "print(\"Decision Tree Model Accuracy:\", dt_model_accuracy)\n",
    "\n",
    "dt_cv_accuracies = cross_val_score(estimator = dt_classifier, \n",
    "                                    X = X, \n",
    "                                    y = Y, \n",
    "                                    cv = 10, \n",
    "                                    scoring = 'accuracy')\n",
    "\n",
    "dt_cv_accuracies_mean = (dt_cv_accuracies.mean() * 100)\n",
    "dt_cv_accuracies_std = (dt_cv_accuracies.std() * 100)\n",
    "\n",
    "print(\"Decision Tree Cross Validation Accuracy: {:.2f} %\".format(dt_cv_accuracies_mean))\n",
    "print(\"Decision Tree Cross Validation Standard-Deviation: {:.2f} %\".format(dt_cv_accuracies_std))\n",
    "print()\n",
    "# generate_roc_curves(dt_classifier)"
   ]
  },
  {
   "cell_type": "code",
   "execution_count": 37,
   "id": "12c5d1d9",
   "metadata": {},
   "outputs": [],
   "source": [
    "clf = svm.SVC()\n",
    "clf.fit(X_train,Y_train)\n",
    "Y_pred = clf.predict(X_test)"
   ]
  },
  {
   "cell_type": "code",
   "execution_count": 38,
   "id": "ecc883ee",
   "metadata": {},
   "outputs": [
    {
     "name": "stdout",
     "output_type": "stream",
     "text": [
      "              precision    recall  f1-score   support\n",
      "\n",
      "           0       0.68      1.00      0.81      3858\n",
      "           1       0.00      0.00      0.00       112\n",
      "           2       0.00      0.00      0.00        64\n",
      "           3       0.00      0.00      0.00        59\n",
      "           4       0.00      0.00      0.00        23\n",
      "           5       0.00      0.00      0.00        19\n",
      "           6       0.00      0.00      0.00        35\n",
      "           7       0.00      0.00      0.00        27\n",
      "           8       0.00      0.00      0.00        16\n",
      "           9       0.00      0.00      0.00         5\n",
      "          10       0.00      0.00      0.00         1\n",
      "          11       0.00      0.00      0.00         6\n",
      "          12       0.00      0.00      0.00         5\n",
      "          13       0.00      0.00      0.00         7\n",
      "          14       0.00      0.00      0.00         4\n",
      "          15       0.00      0.00      0.00         6\n",
      "          16       0.00      0.00      0.00         7\n",
      "          17       0.00      0.00      0.00         7\n",
      "          18       0.00      0.00      0.00         1\n",
      "          19       0.00      0.00      0.00         3\n",
      "          20       0.00      0.00      0.00         6\n",
      "          21       0.00      0.00      0.00         2\n",
      "          22       0.00      0.00      0.00         8\n",
      "          23       0.00      0.00      0.00         5\n",
      "          24       0.00      0.00      0.00         7\n",
      "          25       0.00      0.00      0.00         4\n",
      "          26       0.00      0.00      0.00         4\n",
      "          27       0.00      0.00      0.00         3\n",
      "          28       0.00      0.00      0.00         2\n",
      "          29       0.00      0.00      0.00         4\n",
      "          30       0.00      0.00      0.00         5\n",
      "          31       0.00      0.00      0.00         2\n",
      "          32       0.00      0.00      0.00         3\n",
      "          33       0.00      0.00      0.00        10\n",
      "          34       0.00      0.00      0.00         1\n",
      "          35       0.00      0.00      0.00         1\n",
      "          36       0.00      0.00      0.00         3\n",
      "          37       0.00      0.00      0.00         5\n",
      "          38       0.00      0.00      0.00         5\n",
      "          39       0.00      0.00      0.00         5\n",
      "          40       0.00      0.00      0.00         7\n",
      "          41       0.00      0.00      0.00         1\n",
      "          42       0.00      0.00      0.00         3\n",
      "          43       0.00      0.00      0.00         5\n",
      "          44       0.00      0.00      0.00         1\n",
      "          45       0.00      0.00      0.00         4\n",
      "          46       0.00      0.00      0.00         4\n",
      "          47       0.00      0.00      0.00         2\n",
      "          48       0.00      0.00      0.00         5\n",
      "          49       0.00      0.00      0.00         6\n",
      "          50       0.00      0.00      0.00         4\n",
      "          51       0.00      0.00      0.00         3\n",
      "          52       0.00      0.00      0.00         3\n",
      "          53       0.00      0.00      0.00         4\n",
      "          54       0.00      0.00      0.00         3\n",
      "          55       0.00      0.00      0.00         2\n",
      "          56       0.00      0.00      0.00         2\n",
      "          57       0.00      0.00      0.00         3\n",
      "          58       0.00      0.00      0.00         6\n",
      "          59       0.00      0.00      0.00        17\n",
      "          60       0.00      0.00      0.00         5\n",
      "          61       0.00      0.00      0.00         5\n",
      "          62       0.00      0.00      0.00         8\n",
      "          63       0.00      0.00      0.00         2\n",
      "          64       0.00      0.00      0.00         7\n",
      "          65       0.00      0.00      0.00         3\n",
      "          66       0.00      0.00      0.00         5\n",
      "          67       0.00      0.00      0.00         6\n",
      "          68       0.00      0.00      0.00         8\n",
      "          69       0.00      0.00      0.00         3\n",
      "          70       0.00      0.00      0.00        14\n",
      "          71       0.00      0.00      0.00         6\n",
      "          72       0.00      0.00      0.00         1\n",
      "          73       0.00      0.00      0.00         4\n",
      "          74       0.00      0.00      0.00         2\n",
      "          75       0.00      0.00      0.00         3\n",
      "          76       0.00      0.00      0.00         2\n",
      "          77       0.00      0.00      0.00         1\n",
      "          78       0.00      0.00      0.00         1\n",
      "          79       0.00      0.00      0.00         2\n",
      "          80       0.00      0.00      0.00         3\n",
      "          81       0.00      0.00      0.00         3\n",
      "          82       0.00      0.00      0.00         5\n",
      "          83       0.00      0.00      0.00         2\n",
      "          84       0.00      0.00      0.00         3\n",
      "          86       0.00      0.00      0.00         1\n",
      "          87       0.00      0.00      0.00         1\n",
      "          88       0.00      0.00      0.00         5\n",
      "          89       0.00      0.00      0.00         3\n",
      "          90       0.00      0.00      0.00         1\n",
      "          91       0.00      0.00      0.00         2\n",
      "          92       0.00      0.00      0.00         1\n",
      "          93       0.00      0.00      0.00         3\n",
      "          94       0.00      0.00      0.00         4\n",
      "          95       0.00      0.00      0.00         3\n",
      "          96       0.00      0.00      0.00         2\n",
      "          97       0.00      0.00      0.00        19\n",
      "          98       0.00      0.00      0.00        23\n",
      "          99       0.00      0.00      0.00      1029\n",
      "\n",
      "    accuracy                           0.68      5636\n",
      "   macro avg       0.01      0.01      0.01      5636\n",
      "weighted avg       0.47      0.68      0.56      5636\n",
      "\n"
     ]
    }
   ],
   "source": [
    "from sklearn.metrics import classification_report, confusion_matrix\n",
    "#print(confusion_matrix(Y_test,Y_pred))\n",
    "print(classification_report(Y_test,Y_pred))"
   ]
  },
  {
   "cell_type": "code",
   "execution_count": null,
   "id": "a41b8503",
   "metadata": {},
   "outputs": [],
   "source": [
    "X_train[0]"
   ]
  },
  {
   "cell_type": "code",
   "execution_count": null,
   "id": "f87a85fd",
   "metadata": {},
   "outputs": [],
   "source": []
  },
  {
   "cell_type": "code",
   "execution_count": null,
   "id": "82e1610b",
   "metadata": {},
   "outputs": [],
   "source": []
  }
 ],
 "metadata": {
  "kernelspec": {
   "display_name": "Python 3",
   "language": "python",
   "name": "python3"
  },
  "language_info": {
   "codemirror_mode": {
    "name": "ipython",
    "version": 3
   },
   "file_extension": ".py",
   "mimetype": "text/x-python",
   "name": "python",
   "nbconvert_exporter": "python",
   "pygments_lexer": "ipython3",
   "version": "3.9.6"
  }
 },
 "nbformat": 4,
 "nbformat_minor": 5
}
