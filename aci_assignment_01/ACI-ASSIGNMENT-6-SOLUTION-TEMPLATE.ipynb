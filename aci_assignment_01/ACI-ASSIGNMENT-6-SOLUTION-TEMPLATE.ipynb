{
 "cells": [
  {
   "cell_type": "code",
   "execution_count": null,
   "metadata": {
    "id": "roI-dUP_30Lr"
   },
   "outputs": [],
   "source": [
    "#Coding begins here\n",
    "\n",
    "#Definition of PEAS\n",
    "\n",
    "#Definition of cost function / Heuristic\n",
    "\n",
    "#Implementation of Local search algorithm\n",
    "\n",
    "#Calling main / Calling the defined functions for search\n",
    "\n",
    "\n",
    "#print the path\n",
    "\n",
    "\n",
    "\n"
   ]
  },
  {
   "cell_type": "code",
   "execution_count": null,
   "metadata": {
    "id": "uS521xmk5cPk"
   },
   "outputs": [],
   "source": []
  }
 ],
 "metadata": {
  "colab": {
   "name": "Untitled80.ipynb",
   "provenance": []
  },
  "kernelspec": {
   "display_name": "Python 3",
   "language": "python",
   "name": "python3"
  },
  "language_info": {
   "codemirror_mode": {
    "name": "ipython",
    "version": 3
   },
   "file_extension": ".py",
   "mimetype": "text/x-python",
   "name": "python",
   "nbconvert_exporter": "python",
   "pygments_lexer": "ipython3",
   "version": "3.8.5"
  }
 },
 "nbformat": 4,
 "nbformat_minor": 1
}
